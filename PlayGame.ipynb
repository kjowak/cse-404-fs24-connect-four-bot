{
 "cells": [
  {
   "cell_type": "markdown",
   "metadata": {
    "id": "lADDrUcWbaQS",
    "pycharm": {
     "name": "#%% md\n"
    }
   },
   "source": [
    "# Play Game\n",
    "\n",
    "In this fle you can try playing against every model we have created."
   ]
  },
  {
   "cell_type": "code",
   "execution_count": 30,
   "metadata": {
    "id": "NRiK5mITZr8d",
    "pycharm": {
     "name": "#%%\n"
    }
   },
   "outputs": [],
   "source": [
    "from tensorflow.keras.models import load_model\n",
    "import joblib\n",
    "import numpy as np"
   ]
  },
  {
   "cell_type": "code",
   "execution_count": 15,
   "metadata": {
    "id": "sCWk8pepZYbz",
    "pycharm": {
     "name": "#%%\n"
    }
   },
   "outputs": [],
   "source": [
    "def print_board(board):\n",
    "    \"\"\"Display the Connect-4 board.\"\"\"\n",
    "    symbols = {1: \"X\", -1: \"O\", 0: \".\"}\n",
    "    for row in board:\n",
    "        print(\" \".join(symbols[cell] for cell in row))\n",
    "    print(\"\\n\")\n",
    "\n",
    "def is_valid_move(board, col):\n",
    "    \"\"\"Check if a move is valid.\"\"\"\n",
    "    return board[0, col] == 0\n",
    "\n",
    "def make_move(board, col, player):\n",
    "    \"\"\"Place a player's piece in the chosen column.\"\"\"\n",
    "    for row in range(5, -1, -1):  # Start from the bottom of the column\n",
    "        if board[row, col] == 0:\n",
    "            board[row, col] = player\n",
    "            return\n",
    "\n",
    "def get_bot_move(model, board):\n",
    "    \"\"\"Get the bot's move using any model.\"\"\"\n",
    "    # Determine model input shape\n",
    "    input_shape = model.input_shape[1:]  # Exclude batch dimension\n",
    "\n",
    "    if input_shape == (6, 7, 1):  # CNN input format\n",
    "        input_board = board.reshape(1, 6, 7, 1)\n",
    "    elif input_shape == (42,):  # MLP input format\n",
    "        input_board = board.flatten().reshape(1, -1)\n",
    "    else:\n",
    "        raise ValueError(f\"Unsupported model input shape: {input_shape}\")\n",
    "\n",
    "    # Predict and mask invalid moves\n",
    "    predictions = model.predict(input_board)[0]\n",
    "    valid_columns = [col for col in range(7) if is_valid_move(board, col)]\n",
    "    masked_predictions = np.array([-1 if col not in valid_columns else predictions[col] for col in range(7)])\n",
    "\n",
    "    # Choose the column with the highest valid probability\n",
    "    return np.argmax(masked_predictions)\n",
    "\n",
    "def is_winner(board, player):\n",
    "    \"\"\"Check if a player has won.\"\"\"\n",
    "    # Check horizontal, vertical, and diagonal (both directions) wins\n",
    "    for row in range(6):\n",
    "        for col in range(7):\n",
    "            if (\n",
    "                col + 3 < 7 and all(board[row, col + i] == player for i in range(4))\n",
    "                or row + 3 < 6 and all(board[row + i, col] == player for i in range(4))\n",
    "                or row + 3 < 6 and col + 3 < 7 and all(board[row + i, col + i] == player for i in range(4))\n",
    "                or row + 3 < 6 and col - 3 >= 0 and all(board[row + i, col - i] == player for i in range(4))\n",
    "            ):\n",
    "                return True\n",
    "    return False\n",
    "\n",
    "def play_game(model_path):\n",
    "    \"\"\"Play a game of Connect-4 against the bot.\"\"\"\n",
    "    model = load_model(model_path)  # Load the trained model\n",
    "    board = np.zeros((6, 7), dtype=int)  # Initialize an empty board\n",
    "    print(\"Welcome to Connect-4! You are 'X' (1). Bot is 'O' (-1).\\n\")\n",
    "    print_board(board)\n",
    "    while True:\n",
    "        # Player's move\n",
    "        while True:\n",
    "            try:\n",
    "                col = int(input(\"Enter your move (0-6): \"))\n",
    "                if 0 <= col <= 6 and is_valid_move(board, col):\n",
    "                    break\n",
    "                else:\n",
    "                    print(\"Invalid move. Try again.\")\n",
    "            except ValueError:\n",
    "                print(\"Please enter a number between 0 and 6.\")\n",
    "        make_move(board, col, 1)\n",
    "        print(\"Your move:\")\n",
    "        print_board(board)\n",
    "        if is_winner(board, 1):\n",
    "            print(\"Congratulations! You win!\")\n",
    "            break\n",
    "\n",
    "        # Check for a draw\n",
    "        if not any(board[0, :] == 0):\n",
    "            print(\"It's a draw!\")\n",
    "            break\n",
    "\n",
    "        # Bot's move\n",
    "        bot_col = get_bot_move(model, board)\n",
    "        make_move(board, bot_col, -1)\n",
    "        print(f\"Bot chooses column {bot_col}:\")\n",
    "        print_board(board)\n",
    "        if is_winner(board, -1):\n",
    "            print(\"Bot wins! Better luck next time!\")\n",
    "            break\n"
   ]
  },
  {
   "cell_type": "code",
   "execution_count": 31,
   "metadata": {},
   "outputs": [
    {
     "name": "stdout",
     "output_type": "stream",
     "text": [
      "Choosing random\n",
      "1\n",
      "[[ 0  0  0  0  0  0  0]\n",
      " [ 0  0  0  0  0  0  0]\n",
      " [ 0  0  0  0  0  0  0]\n",
      " [ 0  0 -1  1  0  0  0]\n",
      " [ 0 -1  0  1  0  0  0]\n",
      " [-1  0  0  1  0  0  0]]\n",
      "Winning!\n",
      "3\n"
     ]
    }
   ],
   "source": [
    "# player classes\n",
    "import copy\n",
    "\n",
    "class Player:\n",
    "    def __init__(self, marker):\n",
    "        self._marker = marker\n",
    "\n",
    "class RandomPlayer(Player):\n",
    "    def GetMove(self, board):\n",
    "        available = [col for col, value in enumerate(board[0]) if value == 0]\n",
    "        return np.random.choice(available)\n",
    "\n",
    "class SophisticatedPlayer(Player):\n",
    "    def GetMove(self, board):\n",
    "        available = [col for col, value in enumerate(board[0]) if value == 0]\n",
    "\n",
    "        # get winning move if it exists\n",
    "        for move in available:\n",
    "            temp_board = copy.deepcopy(board)\n",
    "            make_move(temp_board, move, self._marker)\n",
    "            if is_winner(temp_board, self._marker):\n",
    "                print(\"Winning!\")\n",
    "                return move\n",
    "\n",
    "        # block winning move for opponents\n",
    "        for move in available:\n",
    "            temp_board = copy.deepcopy(board)\n",
    "            make_move(temp_board, move, -1) # opponent's marker\n",
    "            if is_winner(temp_board, -1):\n",
    "                print(\"Blocking!\")\n",
    "                return move\n",
    "\n",
    "        # return a random move if no other criteria are met\n",
    "        print(\"Choosing random\")\n",
    "        return np.random.choice(available)\n",
    "\n",
    "class RealPlayer(Player):\n",
    "    def GetMove(self, board):\n",
    "        while True:\n",
    "            try:\n",
    "                col = int(input(\"Enter your move (0-6): \"))\n",
    "                if 0 <= col <= 6 and is_valid_move(board, col):\n",
    "                    return col\n",
    "                else:\n",
    "                    print(\"Invalid move. Try again.\")\n",
    "            except ValueError:\n",
    "                print(\"Please enter a number between 0 and 6.\")\n",
    "\n",
    "class H5Player(Player):\n",
    "    def __init__(self, marker, model_path):\n",
    "        Player.__init__(self, marker)\n",
    "        self.model = load_model(model_path)\n",
    "\n",
    "    def GetMove(self, board):\n",
    "        return get_bot_move(self.model, board)\n",
    "\n",
    "class PKLPlayer(Player):\n",
    "    def __init__(self, marker, model_path):\n",
    "        Player.__init__(self, marker)\n",
    "        self.model = joblib.load(model_path)\n",
    "\n",
    "    def GetMove(self, board):\n",
    "        return self.model.predict(board.reshape(1, -1))[0]\n",
    "\n",
    "\n",
    "board = np.zeros((6, 7), dtype=int)\n",
    "player = SophisticatedPlayer(1)\n",
    "\n",
    "print(player.GetMove(board))\n",
    "board[5, 0] = -1\n",
    "board[4, 1] = -1\n",
    "board[3, 2] = -1\n",
    "board[5, 3] = 1\n",
    "board[4, 3] = 1\n",
    "board[3, 3] = 1\n",
    "print(board)\n",
    "print(player.GetMove(board))"
   ]
  },
  {
   "cell_type": "markdown",
   "metadata": {
    "id": "vF2sP6S1bpUt",
    "pycharm": {
     "name": "#%% md\n"
    }
   },
   "source": [
    "# Play against CNN Model"
   ]
  },
  {
   "cell_type": "code",
   "execution_count": 3,
   "metadata": {
    "colab": {
     "base_uri": "https://localhost:8080/"
    },
    "id": "P6GqzLipZmHC",
    "outputId": "dff36bc6-020b-4e4d-a170-111eb1925b83",
    "pycharm": {
     "name": "#%%\n"
    }
   },
   "outputs": [
    {
     "name": "stderr",
     "output_type": "stream",
     "text": [
      "WARNING:absl:Compiled the loaded model, but the compiled metrics have yet to be built. `model.compile_metrics` will be empty until you train or evaluate the model.\n"
     ]
    },
    {
     "name": "stdout",
     "output_type": "stream",
     "text": [
      "Welcome to Connect-4! You are 'X' (1). Bot is 'O' (-1).\n",
      "\n",
      ". . . . . . .\n",
      ". . . . . . .\n",
      ". . . . . . .\n",
      ". . . . . . .\n",
      ". . . . . . .\n",
      ". . . . . . .\n",
      "\n",
      "\n"
     ]
    },
    {
     "name": "stdin",
     "output_type": "stream",
     "text": [
      "Enter your move (0-6):  1\n"
     ]
    },
    {
     "name": "stdout",
     "output_type": "stream",
     "text": [
      "Your move:\n",
      ". . . . . . .\n",
      ". . . . . . .\n",
      ". . . . . . .\n",
      ". . . . . . .\n",
      ". . . . . . .\n",
      ". X . . . . .\n",
      "\n",
      "\n",
      "\u001b[1m1/1\u001b[0m \u001b[32m━━━━━━━━━━━━━━━━━━━━\u001b[0m\u001b[37m\u001b[0m \u001b[1m0s\u001b[0m 167ms/step\n",
      "Bot chooses column 0:\n",
      ". . . . . . .\n",
      ". . . . . . .\n",
      ". . . . . . .\n",
      ". . . . . . .\n",
      ". . . . . . .\n",
      "O X . . . . .\n",
      "\n",
      "\n"
     ]
    },
    {
     "name": "stdin",
     "output_type": "stream",
     "text": [
      "Enter your move (0-6):  2\n"
     ]
    },
    {
     "name": "stdout",
     "output_type": "stream",
     "text": [
      "Your move:\n",
      ". . . . . . .\n",
      ". . . . . . .\n",
      ". . . . . . .\n",
      ". . . . . . .\n",
      ". . . . . . .\n",
      "O X X . . . .\n",
      "\n",
      "\n",
      "\u001b[1m1/1\u001b[0m \u001b[32m━━━━━━━━━━━━━━━━━━━━\u001b[0m\u001b[37m\u001b[0m \u001b[1m0s\u001b[0m 39ms/step\n",
      "Bot chooses column 0:\n",
      ". . . . . . .\n",
      ". . . . . . .\n",
      ". . . . . . .\n",
      ". . . . . . .\n",
      "O . . . . . .\n",
      "O X X . . . .\n",
      "\n",
      "\n"
     ]
    },
    {
     "name": "stdin",
     "output_type": "stream",
     "text": [
      "Enter your move (0-6):  0\n"
     ]
    },
    {
     "name": "stdout",
     "output_type": "stream",
     "text": [
      "Your move:\n",
      ". . . . . . .\n",
      ". . . . . . .\n",
      ". . . . . . .\n",
      "X . . . . . .\n",
      "O . . . . . .\n",
      "O X X . . . .\n",
      "\n",
      "\n",
      "\u001b[1m1/1\u001b[0m \u001b[32m━━━━━━━━━━━━━━━━━━━━\u001b[0m\u001b[37m\u001b[0m \u001b[1m0s\u001b[0m 40ms/step\n",
      "Bot chooses column 0:\n",
      ". . . . . . .\n",
      ". . . . . . .\n",
      "O . . . . . .\n",
      "X . . . . . .\n",
      "O . . . . . .\n",
      "O X X . . . .\n",
      "\n",
      "\n"
     ]
    },
    {
     "name": "stdin",
     "output_type": "stream",
     "text": [
      "Enter your move (0-6):  0\n"
     ]
    },
    {
     "name": "stdout",
     "output_type": "stream",
     "text": [
      "Your move:\n",
      ". . . . . . .\n",
      "X . . . . . .\n",
      "O . . . . . .\n",
      "X . . . . . .\n",
      "O . . . . . .\n",
      "O X X . . . .\n",
      "\n",
      "\n",
      "\u001b[1m1/1\u001b[0m \u001b[32m━━━━━━━━━━━━━━━━━━━━\u001b[0m\u001b[37m\u001b[0m \u001b[1m0s\u001b[0m 44ms/step\n",
      "Bot chooses column 0:\n",
      "O . . . . . .\n",
      "X . . . . . .\n",
      "O . . . . . .\n",
      "X . . . . . .\n",
      "O . . . . . .\n",
      "O X X . . . .\n",
      "\n",
      "\n"
     ]
    },
    {
     "name": "stdin",
     "output_type": "stream",
     "text": [
      "Enter your move (0-6):  0\n"
     ]
    },
    {
     "name": "stdout",
     "output_type": "stream",
     "text": [
      "Invalid move. Try again.\n"
     ]
    },
    {
     "name": "stdin",
     "output_type": "stream",
     "text": [
      "Enter your move (0-6):  1\n"
     ]
    },
    {
     "name": "stdout",
     "output_type": "stream",
     "text": [
      "Your move:\n",
      "O . . . . . .\n",
      "X . . . . . .\n",
      "O . . . . . .\n",
      "X . . . . . .\n",
      "O X . . . . .\n",
      "O X X . . . .\n",
      "\n",
      "\n",
      "\u001b[1m1/1\u001b[0m \u001b[32m━━━━━━━━━━━━━━━━━━━━\u001b[0m\u001b[37m\u001b[0m \u001b[1m0s\u001b[0m 51ms/step\n",
      "Bot chooses column 1:\n",
      "O . . . . . .\n",
      "X . . . . . .\n",
      "O . . . . . .\n",
      "X O . . . . .\n",
      "O X . . . . .\n",
      "O X X . . . .\n",
      "\n",
      "\n"
     ]
    },
    {
     "name": "stdin",
     "output_type": "stream",
     "text": [
      "Enter your move (0-6):  2\n"
     ]
    },
    {
     "name": "stdout",
     "output_type": "stream",
     "text": [
      "Your move:\n",
      "O . . . . . .\n",
      "X . . . . . .\n",
      "O . . . . . .\n",
      "X O . . . . .\n",
      "O X X . . . .\n",
      "O X X . . . .\n",
      "\n",
      "\n",
      "\u001b[1m1/1\u001b[0m \u001b[32m━━━━━━━━━━━━━━━━━━━━\u001b[0m\u001b[37m\u001b[0m \u001b[1m0s\u001b[0m 38ms/step\n",
      "Bot chooses column 1:\n",
      "O . . . . . .\n",
      "X . . . . . .\n",
      "O O . . . . .\n",
      "X O . . . . .\n",
      "O X X . . . .\n",
      "O X X . . . .\n",
      "\n",
      "\n"
     ]
    },
    {
     "name": "stdin",
     "output_type": "stream",
     "text": [
      "Enter your move (0-6):  1\n"
     ]
    },
    {
     "name": "stdout",
     "output_type": "stream",
     "text": [
      "Your move:\n",
      "O . . . . . .\n",
      "X X . . . . .\n",
      "O O . . . . .\n",
      "X O . . . . .\n",
      "O X X . . . .\n",
      "O X X . . . .\n",
      "\n",
      "\n",
      "\u001b[1m1/1\u001b[0m \u001b[32m━━━━━━━━━━━━━━━━━━━━\u001b[0m\u001b[37m\u001b[0m \u001b[1m0s\u001b[0m 39ms/step\n",
      "Bot chooses column 3:\n",
      "O . . . . . .\n",
      "X X . . . . .\n",
      "O O . . . . .\n",
      "X O . . . . .\n",
      "O X X . . . .\n",
      "O X X O . . .\n",
      "\n",
      "\n"
     ]
    },
    {
     "name": "stdin",
     "output_type": "stream",
     "text": [
      "Enter your move (0-6):  3\n"
     ]
    },
    {
     "name": "stdout",
     "output_type": "stream",
     "text": [
      "Your move:\n",
      "O . . . . . .\n",
      "X X . . . . .\n",
      "O O . . . . .\n",
      "X O . . . . .\n",
      "O X X X . . .\n",
      "O X X O . . .\n",
      "\n",
      "\n",
      "\u001b[1m1/1\u001b[0m \u001b[32m━━━━━━━━━━━━━━━━━━━━\u001b[0m\u001b[37m\u001b[0m \u001b[1m0s\u001b[0m 40ms/step\n",
      "Bot chooses column 1:\n",
      "O O . . . . .\n",
      "X X . . . . .\n",
      "O O . . . . .\n",
      "X O . . . . .\n",
      "O X X X . . .\n",
      "O X X O . . .\n",
      "\n",
      "\n"
     ]
    },
    {
     "name": "stdin",
     "output_type": "stream",
     "text": [
      "Enter your move (0-6):  4\n"
     ]
    },
    {
     "name": "stdout",
     "output_type": "stream",
     "text": [
      "Your move:\n",
      "O O . . . . .\n",
      "X X . . . . .\n",
      "O O . . . . .\n",
      "X O . . . . .\n",
      "O X X X . . .\n",
      "O X X O X . .\n",
      "\n",
      "\n",
      "\u001b[1m1/1\u001b[0m \u001b[32m━━━━━━━━━━━━━━━━━━━━\u001b[0m\u001b[37m\u001b[0m \u001b[1m0s\u001b[0m 39ms/step\n",
      "Bot chooses column 2:\n",
      "O O . . . . .\n",
      "X X . . . . .\n",
      "O O . . . . .\n",
      "X O O . . . .\n",
      "O X X X . . .\n",
      "O X X O X . .\n",
      "\n",
      "\n"
     ]
    },
    {
     "name": "stdin",
     "output_type": "stream",
     "text": [
      "Enter your move (0-6):  4\n"
     ]
    },
    {
     "name": "stdout",
     "output_type": "stream",
     "text": [
      "Your move:\n",
      "O O . . . . .\n",
      "X X . . . . .\n",
      "O O . . . . .\n",
      "X O O . . . .\n",
      "O X X X X . .\n",
      "O X X O X . .\n",
      "\n",
      "\n",
      "Congratulations! You win!\n"
     ]
    }
   ],
   "source": [
    "play_game(\"connect4_cnn_model.h5\")"
   ]
  },
  {
   "cell_type": "markdown",
   "metadata": {
    "id": "nVWbhKM3bu0Q",
    "pycharm": {
     "name": "#%% md\n"
    }
   },
   "source": [
    "# Play Against MLP Model"
   ]
  },
  {
   "cell_type": "code",
   "execution_count": 15,
   "metadata": {
    "colab": {
     "base_uri": "https://localhost:8080/"
    },
    "id": "K_ONK41DZ5aN",
    "outputId": "a7214fac-36cf-4ec6-ea53-288986c8b4da",
    "pycharm": {
     "name": "#%%\n"
    }
   },
   "outputs": [
    {
     "name": "stderr",
     "output_type": "stream",
     "text": [
      "WARNING:absl:Compiled the loaded model, but the compiled metrics have yet to be built. `model.compile_metrics` will be empty until you train or evaluate the model.\n"
     ]
    },
    {
     "name": "stdout",
     "output_type": "stream",
     "text": [
      "Welcome to Connect-4! You are 'X' (1). Bot is 'O' (-1).\n",
      "\n",
      ". . . . . . .\n",
      ". . . . . . .\n",
      ". . . . . . .\n",
      ". . . . . . .\n",
      ". . . . . . .\n",
      ". . . . . . .\n",
      "\n",
      "\n",
      "Enter your move (0-6): 3\n",
      "Your move:\n",
      ". . . . . . .\n",
      ". . . . . . .\n",
      ". . . . . . .\n",
      ". . . . . . .\n",
      ". . . . . . .\n",
      ". . . X . . .\n",
      "\n",
      "\n",
      "\u001b[1m1/1\u001b[0m \u001b[32m━━━━━━━━━━━━━━━━━━━━\u001b[0m\u001b[37m\u001b[0m \u001b[1m0s\u001b[0m 87ms/step\n",
      "Bot chooses column 0:\n",
      ". . . . . . .\n",
      ". . . . . . .\n",
      ". . . . . . .\n",
      ". . . . . . .\n",
      ". . . . . . .\n",
      "O . . X . . .\n",
      "\n",
      "\n",
      "Enter your move (0-6): 3\n",
      "Your move:\n",
      ". . . . . . .\n",
      ". . . . . . .\n",
      ". . . . . . .\n",
      ". . . . . . .\n",
      ". . . X . . .\n",
      "O . . X . . .\n",
      "\n",
      "\n",
      "\u001b[1m1/1\u001b[0m \u001b[32m━━━━━━━━━━━━━━━━━━━━\u001b[0m\u001b[37m\u001b[0m \u001b[1m0s\u001b[0m 21ms/step\n",
      "Bot chooses column 0:\n",
      ". . . . . . .\n",
      ". . . . . . .\n",
      ". . . . . . .\n",
      ". . . . . . .\n",
      "O . . X . . .\n",
      "O . . X . . .\n",
      "\n",
      "\n",
      "Enter your move (0-6): 3\n",
      "Your move:\n",
      ". . . . . . .\n",
      ". . . . . . .\n",
      ". . . . . . .\n",
      ". . . X . . .\n",
      "O . . X . . .\n",
      "O . . X . . .\n",
      "\n",
      "\n",
      "\u001b[1m1/1\u001b[0m \u001b[32m━━━━━━━━━━━━━━━━━━━━\u001b[0m\u001b[37m\u001b[0m \u001b[1m0s\u001b[0m 19ms/step\n",
      "Bot chooses column 0:\n",
      ". . . . . . .\n",
      ". . . . . . .\n",
      ". . . . . . .\n",
      "O . . X . . .\n",
      "O . . X . . .\n",
      "O . . X . . .\n",
      "\n",
      "\n",
      "Enter your move (0-6): 3\n",
      "Your move:\n",
      ". . . . . . .\n",
      ". . . . . . .\n",
      ". . . X . . .\n",
      "O . . X . . .\n",
      "O . . X . . .\n",
      "O . . X . . .\n",
      "\n",
      "\n",
      "Congratulations! You win!\n"
     ]
    }
   ],
   "source": [
    "play_game(\"connect4_mlp_model.h5\")"
   ]
  },
  {
   "cell_type": "markdown",
   "metadata": {
    "id": "idjvw1a0awmf",
    "pycharm": {
     "name": "#%% md\n"
    }
   },
   "source": [
    "# Play Against Decision Tree Model"
   ]
  },
  {
   "cell_type": "code",
   "execution_count": 18,
   "metadata": {
    "pycharm": {
     "name": "#%%\n"
    }
   },
   "outputs": [],
   "source": [
    "import numpy as np\n",
    "\n",
    "\n",
    "def is_valid_move(board, col):\n",
    "    \"\"\"Check if a move is valid.\"\"\"\n",
    "    return board[0, col] == 0\n",
    "\n",
    "def make_move(board, col, player):\n",
    "    \"\"\"Make a move on the board.\"\"\"\n",
    "    for row in range(5, -1, -1):\n",
    "        if board[row, col] == 0:\n",
    "            board[row, col] = player\n",
    "            break\n",
    "\n",
    "def is_winner(board, player):\n",
    "    \"\"\"Check if the player has won.\"\"\"\n",
    "    for row in range(6):\n",
    "        for col in range(7):\n",
    "            if (\n",
    "                col + 3 < 7 and all(board[row, col + i] == player for i in range(4)) or\n",
    "                row + 3 < 6 and all(board[row + i, col] == player for i in range(4)) or\n",
    "                row + 3 < 6 and col + 3 < 7 and all(board[row + i, col + i] == player for i in range(4)) or\n",
    "                row + 3 < 6 and col - 3 >= 0 and all(board[row + i, col - i] == player for i in range(4))\n",
    "            ):\n",
    "                return True\n",
    "    return False\n",
    "\n",
    "def print_board(board):\n",
    "    \"\"\"Print the Connect-4 board.\"\"\"\n",
    "    symbols = {1: \"X\", -1: \"O\", 0: \".\"}\n",
    "    for row in board:\n",
    "        print(\" \".join(symbols[cell] for cell in row))\n",
    "    print(\"\\n\")\n",
    "\n",
    "def play_game(model_path):\n",
    "    \"\"\"Play a game of Connect-4 against the bot.\"\"\"\n",
    "    model = joblib.load(model_path)  # Load the trained model\n",
    "    board = np.zeros((6, 7), dtype=int)  # Initialize an empty board\n",
    "    print(\"Welcome to Connect-4! You are 'X' (1). Bot is 'O' (-1).\\n\")\n",
    "    print_board(board)\n",
    "    while True:\n",
    "        # Player's move\n",
    "        while True:\n",
    "            try:\n",
    "                col = int(input(\"Enter your move (0-6): \"))\n",
    "                if 0 <= col <= 6 and is_valid_move(board, col):\n",
    "                    break\n",
    "                else:\n",
    "                    print(\"Invalid move. Try again.\")\n",
    "            except ValueError:\n",
    "                print(\"Please enter a number between 0 and 6.\")\n",
    "        make_move(board, col, 1)\n",
    "        print(\"Your move:\")\n",
    "        print_board(board)\n",
    "        if is_winner(board, 1):\n",
    "            print(\"Congratulations! You win!\")\n",
    "            break\n",
    "\n",
    "        # Bot's move\n",
    "        # Assuming the model takes the board as input and outputs the best column to play\n",
    "        bot_move = model.predict(board.reshape(1, -1))[0]\n",
    "\n",
    "        make_move(board, bot_move, -1)\n",
    "        print(\"Bot's move:\")\n",
    "        print_board(board)\n",
    "        if is_winner(board, -1):\n",
    "            print(\"Bot wins! Better luck next time.\")\n",
    "            break\n",
    "\n",
    "# Example usage\n",
    "# play_game('decision_tree_model.pkl')"
   ]
  },
  {
   "cell_type": "code",
   "execution_count": 19,
   "metadata": {
    "pycharm": {
     "name": "#%%\n"
    }
   },
   "outputs": [
    {
     "name": "stdout",
     "output_type": "stream",
     "text": [
      "Welcome to Connect-4! You are 'X' (1). Bot is 'O' (-1).\n",
      "\n",
      ". . . . . . .\n",
      ". . . . . . .\n",
      ". . . . . . .\n",
      ". . . . . . .\n",
      ". . . . . . .\n",
      ". . . . . . .\n",
      "\n",
      "\n",
      "Your move:\n",
      ". . . . . . .\n",
      ". . . . . . .\n",
      ". . . . . . .\n",
      ". . . . . . .\n",
      ". . . . . . .\n",
      "X . . . . . .\n",
      "\n",
      "\n",
      "Bot's move:\n",
      ". . . . . . .\n",
      ". . . . . . .\n",
      ". . . . . . .\n",
      ". . . . . . .\n",
      "O . . . . . .\n",
      "X . . . . . .\n",
      "\n",
      "\n",
      "Your move:\n",
      ". . . . . . .\n",
      ". . . . . . .\n",
      ". . . . . . .\n",
      ". . . . . . .\n",
      "O . . . . . .\n",
      "X X . . . . .\n",
      "\n",
      "\n",
      "Bot's move:\n",
      ". . . . . . .\n",
      ". . . . . . .\n",
      ". . . . . . .\n",
      "O . . . . . .\n",
      "O . . . . . .\n",
      "X X . . . . .\n",
      "\n",
      "\n",
      "Your move:\n",
      ". . . . . . .\n",
      ". . . . . . .\n",
      ". . . . . . .\n",
      "O . . . . . .\n",
      "O X . . . . .\n",
      "X X . . . . .\n",
      "\n",
      "\n",
      "Bot's move:\n",
      ". . . . . . .\n",
      ". . . . . . .\n",
      "O . . . . . .\n",
      "O . . . . . .\n",
      "O X . . . . .\n",
      "X X . . . . .\n",
      "\n",
      "\n",
      "Your move:\n",
      ". . . . . . .\n",
      "X . . . . . .\n",
      "O . . . . . .\n",
      "O . . . . . .\n",
      "O X . . . . .\n",
      "X X . . . . .\n",
      "\n",
      "\n",
      "Bot's move:\n",
      "O . . . . . .\n",
      "X . . . . . .\n",
      "O . . . . . .\n",
      "O . . . . . .\n",
      "O X . . . . .\n",
      "X X . . . . .\n",
      "\n",
      "\n",
      "Your move:\n",
      "O . . . . . .\n",
      "X . . . . . .\n",
      "O . . . . . .\n",
      "O X . . . . .\n",
      "O X . . . . .\n",
      "X X . . . . .\n",
      "\n",
      "\n",
      "Bot's move:\n",
      "O . . . . . .\n",
      "X . . . . . .\n",
      "O . . . . . .\n",
      "O X . . . . .\n",
      "O X . . . . .\n",
      "X X . O . . .\n",
      "\n",
      "\n",
      "Your move:\n",
      "O . . . . . .\n",
      "X . . . . . .\n",
      "O X . . . . .\n",
      "O X . . . . .\n",
      "O X . . . . .\n",
      "X X . O . . .\n",
      "\n",
      "\n",
      "Congratulations! You win!\n"
     ]
    }
   ],
   "source": [
    "play_game('decision_tree_model.pkl')"
   ]
  },
  {
   "cell_type": "markdown",
   "metadata": {
    "pycharm": {
     "name": "#%% md\n"
    }
   },
   "source": [
    "# Play against SVM Model"
   ]
  },
  {
   "cell_type": "code",
   "execution_count": 22,
   "metadata": {
    "pycharm": {
     "name": "#%%\n"
    }
   },
   "outputs": [
    {
     "name": "stdout",
     "output_type": "stream",
     "text": [
      "Welcome to Connect-4! You are 'X' (1). Bot is 'O' (-1).\n",
      "\n",
      ". . . . . . .\n",
      ". . . . . . .\n",
      ". . . . . . .\n",
      ". . . . . . .\n",
      ". . . . . . .\n",
      ". . . . . . .\n",
      "\n",
      "\n"
     ]
    },
    {
     "name": "stdout",
     "output_type": "stream",
     "text": [
      "Your move:\n",
      ". . . . . . .\n",
      ". . . . . . .\n",
      ". . . . . . .\n",
      ". . . . . . .\n",
      ". . . . . . .\n",
      ". . . . X . .\n",
      "\n",
      "\n",
      "Bot's move:\n",
      ". . . . . . .\n",
      ". . . . . . .\n",
      ". . . . . . .\n",
      ". . . . . . .\n",
      ". . . . . . .\n",
      "O . . . X . .\n",
      "\n",
      "\n",
      "Your move:\n",
      ". . . . . . .\n",
      ". . . . . . .\n",
      ". . . . . . .\n",
      ". . . . . . .\n",
      ". . . . . . .\n",
      "O . . X X . .\n",
      "\n",
      "\n",
      "Bot's move:\n",
      ". . . . . . .\n",
      ". . . . . . .\n",
      ". . . . . . .\n",
      ". . . . . . .\n",
      "O . . . . . .\n",
      "O . . X X . .\n",
      "\n",
      "\n",
      "Your move:\n",
      ". . . . . . .\n",
      ". . . . . . .\n",
      ". . . . . . .\n",
      ". . . . . . .\n",
      "O . . . . . .\n",
      "O . X X X . .\n",
      "\n",
      "\n",
      "Bot's move:\n",
      ". . . . . . .\n",
      ". . . . . . .\n",
      ". . . . . . .\n",
      ". . . . . . .\n",
      "O . . . . . .\n",
      "O O X X X . .\n",
      "\n",
      "\n",
      "Your move:\n",
      ". . . . . . .\n",
      ". . . . . . .\n",
      ". . . . . . .\n",
      ". . . . . . .\n",
      "O . . . . . .\n",
      "O O X X X X .\n",
      "\n",
      "\n",
      "Congratulations! You win!\n"
     ]
    }
   ],
   "source": [
    "play_game('svm_model.pkl')"
   ]
  }
 ],
 "metadata": {
  "colab": {
   "provenance": []
  },
  "kernelspec": {
   "display_name": "Python 3 (ipykernel)",
   "language": "python",
   "name": "python3"
  },
  "language_info": {
   "codemirror_mode": {
    "name": "ipython",
    "version": 3
   },
   "file_extension": ".py",
   "mimetype": "text/x-python",
   "name": "python",
   "nbconvert_exporter": "python",
   "pygments_lexer": "ipython3",
   "version": "3.9.13"
  }
 },
 "nbformat": 4,
 "nbformat_minor": 4
}
