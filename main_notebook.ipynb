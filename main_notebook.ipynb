{
 "cells": [
  {
   "cell_type": "code",
   "execution_count": 55,
   "metadata": {},
   "outputs": [],
   "source": [
    "import pandas as pd\n",
    "import numpy as np\n",
    "\n",
    "# Read the CSV file\n",
    "data = pd.read_csv('c4_game_database.csv')\n",
    "data.head()\n",
    "\n",
    "# Select columns pos01 to pos42\n",
    "columns = [f'pos_{i:02d}' for i in range(1, 43)]\n",
    "X_ = data[columns]\n",
    "y = data['winner']\n",
    "\n",
    "# Function to convert each row to a 6x7 2D array\n",
    "def row_to_2d_array(row):\n",
    "    return np.array(row).reshape(6, 7)\n",
    "\n",
    "# Apply the function to each row\n",
    "X = X_.apply(row_to_2d_array, axis=1)"
   ]
  },
  {
   "cell_type": "code",
   "execution_count": 56,
   "metadata": {},
   "outputs": [
    {
     "name": "stdout",
     "output_type": "stream",
     "text": [
      "Table:\n",
      " [[ 0.  0.  1.  1.  1.  1.  0.]\n",
      " [ 0.  0.  1. -1. -1. -1.  0.]\n",
      " [ 0.  0.  1.  1.  1. -1.  0.]\n",
      " [ 0.  0. -1. -1.  1.  1. -1.]\n",
      " [ 1. -1. -1.  1. -1. -1.  1.]\n",
      " [ 1. -1. -1. -1.  1.  1. -1.]]\n",
      "Winner: 1.0\n"
     ]
    },
    {
     "data": {
      "image/png": "[encoded data removed]",
      "text/plain": [
       "<Figure size 640x480 with 2 Axes>"
      ]
     },
     "metadata": {},
     "output_type": "display_data"
    }
   ],
   "source": [
    "import matplotlib.colors as mcolors\n",
    "import matplotlib.pyplot as plt\n",
    "\n",
    "game_num = 1\n",
    "\n",
    "# Assuming data_2d_arrays is already defined and contains the 2D arrays\n",
    "# Display the 2D array for the a row\n",
    "print('Table:\\n', X[game_num])\n",
    "print('Winner:', y[game_num])\n",
    "\n",
    "array_to_plot = X.iloc[game_num]\n",
    "\n",
    "# Define a custom colormap\n",
    "cmap = mcolors.ListedColormap(['yellow', 'white', 'red'])\n",
    "bounds = [-1.5, -0.5, 0.5, 1.5]\n",
    "norm = mcolors.BoundaryNorm(bounds, cmap.N)\n",
    "\n",
    "# Plot the 2D array\n",
    "plt.imshow(array_to_plot, cmap=cmap, norm=norm)\n",
    "plt.colorbar(ticks=[-1, 0, 1])\n",
    "plt.title('2D Array Plot')\n",
    "plt.show()"
   ]
  },
  {
   "cell_type": "markdown",
   "metadata": {},
   "source": [
    "# Logistic Regression Classifier"
   ]
  },
  {
   "cell_type": "markdown",
   "metadata": {},
   "source": [
    "  Very naive model that only actually learns if a board is won or not and by who."
   ]
  },
  {
   "cell_type": "code",
   "execution_count": 4,
   "metadata": {},
   "outputs": [
    {
     "name": "stdout",
     "output_type": "stream",
     "text": [
      "Accuracy: 0.8513222877170623\n"
     ]
    },
    {
     "name": "stderr",
     "output_type": "stream",
     "text": [
      "/opt/anaconda3/lib/python3.12/site-packages/sklearn/metrics/_classification.py:1509: UndefinedMetricWarning: Precision is ill-defined and being set to 0.0 in labels with no predicted samples. Use `zero_division` parameter to control this behavior.\n",
      "  _warn_prf(average, modifier, f\"{metric.capitalize()} is\", len(result))\n",
      "/opt/anaconda3/lib/python3.12/site-packages/sklearn/metrics/_classification.py:1509: UndefinedMetricWarning: Precision is ill-defined and being set to 0.0 in labels with no predicted samples. Use `zero_division` parameter to control this behavior.\n",
      "  _warn_prf(average, modifier, f\"{metric.capitalize()} is\", len(result))\n",
      "/opt/anaconda3/lib/python3.12/site-packages/sklearn/metrics/_classification.py:1509: UndefinedMetricWarning: Precision is ill-defined and being set to 0.0 in labels with no predicted samples. Use `zero_division` parameter to control this behavior.\n",
      "  _warn_prf(average, modifier, f\"{metric.capitalize()} is\", len(result))\n"
     ]
    }
   ],
   "source": [
    "from sklearn.model_selection import train_test_split\n",
    "from sklearn.linear_model import LogisticRegression\n",
    "from sklearn.metrics import accuracy_score, classification_report\n",
    "\n",
    "# Flatten the 6x7 2D arrays back to 1D arrays for logistic regression\n",
    "X_flat = X.apply(lambda x: x.flatten())\n",
    "X_flat = np.stack(X_flat.values)\n",
    "\n",
    "# Drop rows with NaN values in y\n",
    "non_nan_indices = ~np.isnan(y)\n",
    "X_flat = X_flat[non_nan_indices]\n",
    "y = y[non_nan_indices]\n",
    "\n",
    "# Split the data into training and testing sets (80/20 split)\n",
    "X_train, X_test, y_train, y_test = train_test_split(X_flat, y, test_size=0.2, random_state=42)\n",
    "\n",
    "# Train the model\n",
    "model = LogisticRegression(max_iter=1000)\n",
    "model.fit(X_train, y_train)\n",
    "\n",
    "# Make predictions on the test set\n",
    "y_pred = model.predict(X_test)\n",
    "\n",
    "# Evaluate the model\n",
    "accuracy = accuracy_score(y_test, y_pred)\n",
    "report = classification_report(y_test, y_pred)\n",
    "\n",
    "print(f'Accuracy: {accuracy}')"
   ]
  },
  {
   "cell_type": "markdown",
   "metadata": {},
   "source": [
    "# Multilayer Perceptron (MLP) Classifiers"
   ]
  },
  {
   "cell_type": "markdown",
   "metadata": {},
   "source": [
    "Pretty naive approach, but it should still work in theory. Other models like Random Forest, SVM, etc, should be tried to see if they perform better."
   ]
  },
  {
   "cell_type": "code",
   "execution_count": 2,
   "metadata": {},
   "outputs": [],
   "source": [
    "import torch\n",
    "import torch.nn as nn\n",
    "import torch.optim as optim\n",
    "from sklearn.model_selection import train_test_split\n",
    "import numpy as np\n",
    "\n",
    "import pandas as pd\n",
    "import numpy as np\n",
    "\n",
    "# Load your dataset (assuming it's a CSV file)\n",
    "data = pd.read_csv('c4_game_database.csv')\n",
    "\n",
    "# Sample dataset structure\n",
    "# For demonstration, let’s create a sample DataFrame based on your column names\n",
    "columns = [f'pos_{i:02}' for i in range(1, 43)] + ['winner']\n",
    "# Assume df is your DataFrame with 42 positions and a winner column\n",
    "\n",
    "# Separate the board positions and the winner column\n",
    "X = data[columns[:-1]].values  # The 42 board positions\n",
    "y_winner = data['winner'].values  # The winner outcome\n",
    "\n",
    "# Convert `winner` to a 7-element probability vector\n",
    "y = np.zeros((len(y_winner), 7))\n",
    "y[y_winner == 1] = 1    # If Player 1 won, set all columns to 1\n",
    "y[y_winner == -1] = 0   # If Player 2 won, set all columns to 0\n",
    "y[y_winner == 0] = 0.5  # If tie, set all columns to 0.5\n",
    "\n",
    "# Split the data\n",
    "X_train, X_test, y_train, y_test = train_test_split(X, y, test_size=0.2)\n",
    "\n",
    "# Convert to PyTorch tensors\n",
    "X_train = torch.tensor(X_train, dtype=torch.float32)\n",
    "y_train = torch.tensor(y_train, dtype=torch.float32)\n",
    "X_test = torch.tensor(X_test, dtype=torch.float32)\n",
    "y_test = torch.tensor(y_test, dtype=torch.float32)"
   ]
  },
  {
   "cell_type": "code",
   "execution_count": 3,
   "metadata": {},
   "outputs": [
    {
     "name": "stdout",
     "output_type": "stream",
     "text": [
      "Epoch [10/50], Loss: 0.2397\n",
      "Epoch [20/50], Loss: 0.2202\n",
      "Epoch [30/50], Loss: 0.1959\n",
      "Epoch [40/50], Loss: 0.1800\n",
      "Epoch [50/50], Loss: 0.1575\n",
      "Loss on test set: 0.1552\n"
     ]
    }
   ],
   "source": [
    "# Define the MLP model\n",
    "class Connect4MLP(nn.Module):\n",
    "    def __init__(self):\n",
    "        super(Connect4MLP, self).__init__()\n",
    "        self.fc1 = nn.Linear(42, 64)  # First hidden layer\n",
    "        self.fc2 = nn.Linear(64, 128)  # Second hidden layer\n",
    "        self.fc3 = nn.Linear(128, 256)  # Third hidden layer\n",
    "        self.fc4 = nn.Linear(256, 512)  # Fourth hidden layer\n",
    "        self.fc5 = nn.Linear(512, 256)  # Fifth hidden layer\n",
    "        self.fc6 = nn.Linear(256, 128)  # Sixth hidden layer\n",
    "        self.fc7 = nn.Linear(128, 64)  # Seventh hidden layer\n",
    "        self.fc8 = nn.Linear(64, 32)  # Eighth hidden layer\n",
    "        self.fc9 = nn.Linear(32, 7)   # Output layer (7 probabilities for each column)\n",
    "\n",
    "    def forward(self, x):\n",
    "        x = torch.relu(self.fc1(x))\n",
    "        x = torch.relu(self.fc2(x))\n",
    "        x = torch.relu(self.fc3(x))\n",
    "        x = torch.relu(self.fc4(x))\n",
    "        x = torch.relu(self.fc5(x))\n",
    "        x = torch.relu(self.fc6(x))\n",
    "        x = torch.relu(self.fc7(x))\n",
    "        x = torch.relu(self.fc8(x))\n",
    "        x = torch.sigmoid(self.fc9(x))  # Sigmoid to output probabilities\n",
    "        return x\n",
    "\n",
    "# Initialize the model, loss function, and optimizer\n",
    "model = Connect4MLP()\n",
    "criterion = nn.MSELoss()  # Mean Squared Error loss for regression on probabilities\n",
    "optimizer = optim.Adam(model.parameters(), lr=0.001)\n",
    "\n",
    "# Training loop\n",
    "epochs = 50\n",
    "for epoch in range(epochs):\n",
    "    optimizer.zero_grad()\n",
    "    outputs = model(X_train)\n",
    "    \n",
    "    # Calculate loss\n",
    "    loss = criterion(outputs, y_train)\n",
    "    loss.backward()\n",
    "    optimizer.step()\n",
    "\n",
    "    # Print the loss every 10 epochs\n",
    "    if (epoch+1) % 10 == 0:\n",
    "        print(f'Epoch [{epoch+1}/{epochs}], Loss: {loss.item():.4f}')\n",
    "\n",
    "\n",
    "# Evaluation on test set\n",
    "model.eval()\n",
    "with torch.no_grad():\n",
    "    test_outputs = model(X_test)\n",
    "    test_loss = criterion(test_outputs, y_test).item()\n",
    "    print(f'Loss on test set: {test_loss:.4f}')\n"
   ]
  },
  {
   "cell_type": "code",
   "execution_count": 3,
   "metadata": {},
   "outputs": [
    {
     "name": "stdout",
     "output_type": "stream",
     "text": [
      "X shape: (376640, 42)\n",
      "y shape: (376640, 7)\n"
     ]
    }
   ],
   "source": [
    "# Load the dataset\n",
    "data = pd.read_csv('c4_game_database.csv', on_bad_lines='skip')\n",
    "\n",
    "# Prepare the features (X) and the target labels (y)\n",
    "X = data.drop(columns=['winner']).values  # 42 positions\n",
    "y_winner = data['winner'].values  # Winner outcome\n",
    "\n",
    "# Convert the 'winner' column into a 7-element probability vector\n",
    "y = np.zeros((len(y_winner), 7))\n",
    "\n",
    "y[y_winner == 1] = 1    # If Player 1 won, set all columns to 1\n",
    "y[y_winner == -1] = 0   # If Player 2 won, set all columns to 0\n",
    "y[y_winner == 0] = 0.5  # If tie, set all columns to 0.5\n",
    "\n",
    "# Check the shapes of X and y\n",
    "print(f'X shape: {X.shape}')\n",
    "print(f'y shape: {y.shape}')"
   ]
  },
  {
   "cell_type": "code",
   "execution_count": 9,
   "metadata": {},
   "outputs": [
    {
     "name": "stdout",
     "output_type": "stream",
     "text": [
      "Epoch [10/50], Loss: 0.2392\n",
      "Epoch [20/50], Loss: 0.2359\n",
      "Epoch [30/50], Loss: 0.2291\n",
      "Epoch [40/50], Loss: 0.2181\n",
      "Epoch [50/50], Loss: 0.2058\n",
      "Loss on test set: 0.2051\n"
     ]
    }
   ],
   "source": [
    "# Assuming `X` contains the 42 board positions and `y` contains the 7 probability targets for each move\n",
    "# Split the data into training and test sets\n",
    "X_train, X_test, y_train, y_test = train_test_split(X, y, test_size=0.2, random_state=42)\n",
    "\n",
    "# Convert data to torch tensors\n",
    "X_train = torch.tensor(X_train, dtype=torch.float32)\n",
    "y_train = torch.tensor(y_train, dtype=torch.float32)  # Float for probability output\n",
    "X_test = torch.tensor(X_test, dtype=torch.float32)\n",
    "y_test = torch.tensor(y_test, dtype=torch.float32)\n",
    "\n",
    "# Define the MLP model\n",
    "class Connect4MLP(nn.Module):\n",
    "    def __init__(self):\n",
    "        super(Connect4MLP, self).__init__()\n",
    "        self.fc1 = nn.Linear(42, 64)  # First hidden layer\n",
    "        self.fc2 = nn.Linear(64, 32)  # Second hidden layer\n",
    "        self.fc3 = nn.Linear(32, 7)   # Output layer (7 probabilities for each column)\n",
    "\n",
    "    def forward(self, x):\n",
    "        x = torch.relu(self.fc1(x))\n",
    "        x = torch.relu(self.fc2(x))\n",
    "        x = torch.sigmoid(self.fc3(x))  # Sigmoid to output probabilities\n",
    "        return x\n",
    "\n",
    "# Initialize the model, loss function, and optimizer\n",
    "model = Connect4MLP()\n",
    "criterion = nn.MSELoss()  # Mean Squared Error loss for regression on probabilities\n",
    "optimizer = optim.Adam(model.parameters(), lr=0.001)\n",
    "\n",
    "# Training loop\n",
    "epochs = 50\n",
    "for epoch in range(epochs):\n",
    "    optimizer.zero_grad()\n",
    "    outputs = model(X_train)\n",
    "    loss = criterion(outputs, y_train)\n",
    "    loss.backward()\n",
    "    optimizer.step()\n",
    "\n",
    "    # Print the loss every 10 epochs\n",
    "    if (epoch+1) % 10 == 0:\n",
    "        print(f'Epoch [{epoch+1}/{epochs}], Loss: {loss.item():.4f}')\n",
    "\n",
    "# Evaluation on test set\n",
    "model.eval()\n",
    "with torch.no_grad():\n",
    "    test_outputs = model(X_test)\n",
    "    test_loss = criterion(test_outputs, y_test).item()\n",
    "    print(f'Loss on test set: {test_loss:.4f}')\n"
   ]
  },
  {
   "cell_type": "code",
   "execution_count": 4,
   "metadata": {},
   "outputs": [
    {
     "name": "stdout",
     "output_type": "stream",
     "text": [
      "Epoch [10/50], Loss: 0.2371\n",
      "Epoch [20/50], Loss: 0.2162\n",
      "Epoch [30/50], Loss: 0.1746\n",
      "Epoch [40/50], Loss: 0.1564\n",
      "Epoch [50/50], Loss: 0.1438\n",
      "Loss on test set: 0.1429\n"
     ]
    }
   ],
   "source": [
    "import torch\n",
    "import torch.nn as nn\n",
    "import torch.optim as optim\n",
    "from sklearn.model_selection import train_test_split\n",
    "\n",
    "# Assuming `X` contains the 42 board positions reshaped as (num_samples, 6, 7)\n",
    "# and `y` contains the 7 probability targets for each move\n",
    "X_train, X_test, y_train, y_test = train_test_split(X, y, test_size=0.2, random_state=42)\n",
    "\n",
    "# Convert data to torch tensors, reshaping X for CNN input\n",
    "X_train = torch.tensor(X_train, dtype=torch.float32).reshape(-1, 1, 6, 7)  # Add channel dimension\n",
    "y_train = torch.tensor(y_train, dtype=torch.float32)\n",
    "X_test = torch.tensor(X_test, dtype=torch.float32).reshape(-1, 1, 6, 7)    # Add channel dimension\n",
    "y_test = torch.tensor(y_test, dtype=torch.float32)\n",
    "\n",
    "# Define the CNN model\n",
    "class Connect4CNN(nn.Module):\n",
    "    def __init__(self):\n",
    "        super(Connect4CNN, self).__init__()\n",
    "        # Convolutional layers\n",
    "        self.conv1 = nn.Conv2d(1, 16, kernel_size=3, padding=1)  # Output size: 16x6x7\n",
    "        self.conv2 = nn.Conv2d(16, 32, kernel_size=3, padding=1) # Output size: 32x6x7\n",
    "        self.fc1 = nn.Linear(32 * 6 * 7, 64)   # Flatten and dense layer\n",
    "        self.fc2 = nn.Linear(64, 32)\n",
    "        self.fc3 = nn.Linear(32, 7)  # Output layer (7 probabilities for each column)\n",
    "\n",
    "    def forward(self, x):\n",
    "        x = torch.relu(self.conv1(x))\n",
    "        x = torch.relu(self.conv2(x))\n",
    "        x = x.view(x.size(0), -1)  # Flatten\n",
    "        x = torch.relu(self.fc1(x))\n",
    "        x = torch.relu(self.fc2(x))\n",
    "        x = torch.sigmoid(self.fc3(x))  # Sigmoid to output probabilities\n",
    "        return x\n",
    "\n",
    "# Initialize the model, loss function, and optimizer\n",
    "model = Connect4CNN()\n",
    "criterion = nn.MSELoss()  # Mean Squared Error loss for regression on probabilities\n",
    "optimizer = optim.Adam(model.parameters(), lr=0.001)\n",
    "\n",
    "# Training loop\n",
    "epochs = 50\n",
    "for epoch in range(epochs):\n",
    "    model.train()\n",
    "    optimizer.zero_grad()\n",
    "    outputs = model(X_train)\n",
    "    loss = criterion(outputs, y_train)\n",
    "    loss.backward()\n",
    "    optimizer.step()\n",
    "\n",
    "    # Print the loss every 10 epochs\n",
    "    if (epoch+1) % 10 == 0:\n",
    "        print(f'Epoch [{epoch+1}/{epochs}], Loss: {loss.item():.4f}')\n",
    "\n",
    "# Evaluation on test set\n",
    "model.eval()\n",
    "with torch.no_grad():\n",
    "    test_outputs = model(X_test)\n",
    "    test_loss = criterion(test_outputs, y_test).item()\n",
    "    print(f'Loss on test set: {test_loss:.4f}')\n"
   ]
  }
 ],
 "metadata": {
  "kernelspec": {
   "display_name": "base",
   "language": "python",
   "name": "python3"
  },
  "language_info": {
   "codemirror_mode": {
    "name": "ipython",
    "version": 3
   },
   "file_extension": ".py",
   "mimetype": "text/x-python",
   "name": "python",
   "nbconvert_exporter": "python",
   "pygments_lexer": "ipython3",
   "version": "3.12.4"
  }
 },
 "nbformat": 4,
 "nbformat_minor": 2
}
