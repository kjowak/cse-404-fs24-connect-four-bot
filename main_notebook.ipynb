{
 "cells": [
  {
   "cell_type": "code",
   "execution_count": 7,
   "metadata": {},
   "outputs": [
    {
     "name": "stdout",
     "output_type": "stream",
     "text": [
      "[[ 1.  1.  1. -1. -1.  1.  0.]\n",
      " [-1. -1. -1.  1. -1. -1.  0.]\n",
      " [-1.  1.  1. -1.  1.  1.  0.]\n",
      " [ 1. -1.  1. -1. -1. -1. -1.]\n",
      " [ 1.  1. -1. -1.  1.  1.  1.]\n",
      " [-1.  1. -1.  1. -1.  1. -1.]]\n"
     ]
    }
   ],
   "source": [
    "import pandas as pd\n",
    "import numpy as np\n",
    "\n",
    "# Read the CSV file\n",
    "data = pd.read_csv('c4_game_database.csv')\n",
    "data.head()\n",
    "\n",
    "# Select columns pos01 to pos42\n",
    "columns = [f'pos_{i:02d}' for i in range(1, 43)]\n",
    "selected_data = data[columns]\n",
    "\n",
    "# Function to convert each row to a 6x7 2D array\n",
    "def row_to_2d_array(row):\n",
    "    return np.array(row).reshape(6, 7)\n",
    "\n",
    "# Apply the function to each row\n",
    "data_2d_arrays = selected_data.apply(row_to_2d_array, axis=1)\n",
    "\n",
    "# Display the first 2D array to verify\n",
    "print(data_2d_arrays.iloc[0])"
   ]
  },
  {
   "cell_type": "code",
   "execution_count": null,
   "metadata": {},
   "outputs": [],
   "source": []
  }
 ],
 "metadata": {
  "kernelspec": {
   "display_name": "base",
   "language": "python",
   "name": "python3"
  },
  "language_info": {
   "codemirror_mode": {
    "name": "ipython",
    "version": 3
   },
   "file_extension": ".py",
   "mimetype": "text/x-python",
   "name": "python",
   "nbconvert_exporter": "python",
   "pygments_lexer": "ipython3",
   "version": "3.12.4"
  }
 },
 "nbformat": 4,
 "nbformat_minor": 2
}
