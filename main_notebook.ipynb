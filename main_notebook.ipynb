{
 "cells": [
  {
   "cell_type": "code",
   "execution_count": 10,
   "metadata": {},
   "outputs": [],
   "source": [
    "import pandas as pd\n",
    "import numpy as np\n",
    "\n",
    "# Read the CSV file\n",
    "data = pd.read_csv('c4_game_database.csv')\n",
    "data.head()\n",
    "\n",
    "# Select columns pos01 to pos42\n",
    "columns = [f'pos_{i:02d}' for i in range(1, 43)]\n",
    "selected_data = data[columns]\n",
    "\n",
    "# Function to convert each row to a 6x7 2D array\n",
    "def row_to_2d_array(row):\n",
    "    return np.array(row).reshape(6, 7)\n",
    "\n",
    "# Apply the function to each row\n",
    "data_2d_arrays = selected_data.apply(row_to_2d_array, axis=1)"
   ]
  },
  {
   "cell_type": "code",
   "execution_count": 9,
   "metadata": {},
   "outputs": [
    {
     "name": "stdout",
     "output_type": "stream",
     "text": [
      "[[ 0.  1.  0.  1.  0.  0.  0.]\n",
      " [ 0. -1.  0.  1.  0.  0.  0.]\n",
      " [ 0.  1. -1. -1.  0.  0.  0.]\n",
      " [ 0.  1.  1. -1.  0.  0.  0.]\n",
      " [-1.  1.  1.  1. -1.  0. -1.]\n",
      " [ 1. -1. -1.  1. -1. -1. -1.]]\n"
     ]
    }
   ],
   "source": [
    "print(data_2d_arrays.iloc[2])"
   ]
  },
  {
   "cell_type": "code",
   "execution_count": 13,
   "metadata": {},
   "outputs": [
    {
     "data": {
      "image/png": "[encoded data removed]",
      "text/plain": [
       "<Figure size 640x480 with 2 Axes>"
      ]
     },
     "metadata": {},
     "output_type": "display_data"
    }
   ],
   "source": [
    "import matplotlib.colors as mcolors\n",
    "import matplotlib.pyplot as plt\n",
    "\n",
    "# Assuming data_2d_arrays is already defined and contains the 2D arrays\n",
    "array_to_plot = data_2d_arrays.iloc[2]\n",
    "\n",
    "# Define a custom colormap\n",
    "cmap = mcolors.ListedColormap(['yellow', 'white', 'red'])\n",
    "bounds = [-1.5, -0.5, 0.5, 1.5]\n",
    "norm = mcolors.BoundaryNorm(bounds, cmap.N)\n",
    "\n",
    "# Plot the 2D array\n",
    "plt.imshow(array_to_plot, cmap=cmap, norm=norm)\n",
    "plt.colorbar(ticks=[-1, 0, 1])\n",
    "plt.title('2D Array Plot')\n",
    "plt.show()"
   ]
  },
  {
   "cell_type": "code",
   "execution_count": null,
   "metadata": {},
   "outputs": [],
   "source": []
  }
 ],
 "metadata": {
  "kernelspec": {
   "display_name": "base",
   "language": "python",
   "name": "python3"
  },
  "language_info": {
   "codemirror_mode": {
    "name": "ipython",
    "version": 3
   },
   "file_extension": ".py",
   "mimetype": "text/x-python",
   "name": "python",
   "nbconvert_exporter": "python",
   "pygments_lexer": "ipython3",
   "version": "3.12.4"
  }
 },
 "nbformat": 4,
 "nbformat_minor": 2
}
